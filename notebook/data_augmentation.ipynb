{
 "cells": [
  {
   "cell_type": "markdown",
   "metadata": {},
   "source": [
    "# Aumento de datos\n",
    "El aumento de datos hace que el modelo sea más robusto a ligeras variaciones y, por lo tanto, evita que el modelo se sobreajuste (overfitting).\n",
    "\n",
    "Para más información: https://towardsdatascience.com/exploring-image-data-augmentation-with-keras-and-tensorflow-a8162d89b844"
   ]
  },
  {
   "cell_type": "code",
   "execution_count": null,
   "metadata": {},
   "outputs": [],
   "source": [
    "from tensorflow.keras.preprocessing.image import ImageDataGenerator\n",
    "from matplotlib.pyplot import imread, imshow, subplots, show\n",
    "\n",
    "def plot(data_generator, images):\n",
    "    image_iterator = data_generator.flow(images)\n",
    "    \n",
    "    fig, rows = subplots(nrows=1, ncols=4, figsize=(18,18))\n",
    "    for row in rows:\n",
    "        img = image_iterator.next()\n",
    "        row.imshow(img[0].astype('int'))\n",
    "    show()"
   ]
  },
  {
   "cell_type": "code",
   "execution_count": null,
   "metadata": {},
   "outputs": [],
   "source": [
    "image = imread(\"data/1.jpg\")\n",
    "\n",
    "# Creating a dataset which contains just one image.\n",
    "import numpy as np\n",
    "myimages = np.array([image])\n",
    "\n",
    "imshow(myimages[0])\n",
    "show()"
   ]
  },
  {
   "cell_type": "markdown",
   "metadata": {},
   "source": [
    "Usamos la clase `ImageDataGenerator` disponible en Tensorflow para realizar leer y aumentar imagenes.\n",
    "\n",
    "- shear_range=0.2 = especifica el angulo (intensidad) del estiramiento a la imagen\n",
    "- zoom_range=0.2 = Se obtiene un zoom aleatorio mediante el argumento `zoom_range`. Un zoom de menos de 1.0 amplía la imagen, mientras que un zoom de más de 1.0 reduce la imagen\n",
    "- horizontal_flip=True = El generador generará imágenes que, de forma aleatoria, se invertirán horizontalmente.\n",
    "\n",
    "Para más información ver: https://www.tensorflow.org/api_docs/python/tf/keras/preprocessing/image/ImageDataGenerator"
   ]
  },
  {
   "cell_type": "code",
   "execution_count": null,
   "metadata": {},
   "outputs": [],
   "source": [
    "train_datagen = ImageDataGenerator(\n",
    "    #rescale=1. / 255,\n",
    "    shear_range=0.2,\n",
    "    zoom_range=0.2,\n",
    "    horizontal_flip=True)\n",
    "plot(train_datagen, myimages)"
   ]
  }
 ],
 "metadata": {
  "kernelspec": {
   "display_name": "Python 3 (ipykernel)",
   "language": "python",
   "name": "python3"
  },
  "language_info": {
   "codemirror_mode": {
    "name": "ipython",
    "version": 3
   },
   "file_extension": ".py",
   "mimetype": "text/x-python",
   "name": "python",
   "nbconvert_exporter": "python",
   "pygments_lexer": "ipython3",
   "version": "3.8.12"
  }
 },
 "nbformat": 4,
 "nbformat_minor": 2
}
