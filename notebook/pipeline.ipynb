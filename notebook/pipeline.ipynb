{
 "cells": [
  {
   "cell_type": "markdown",
   "metadata": {},
   "source": [
    "# Construyendo un Model de Deep Learning que diferencie Perros de Gatos desde 0"
   ]
  },
  {
   "cell_type": "markdown",
   "metadata": {},
   "source": [
    "Pasos:\n",
    "1. Descargamos nuestro conjunto de datos de: https://www.kaggle.com/c/dogs-vs-cats-redux-kernels-edition/data y lo descomprimimos dentro del directorio `notebook/data/`\n",
    "2. Exploración de datos\n",
    "3. Preparación de datos\n",
    "4. Entrenando modelo inicial usando una CNN + Datos Aumentados\n",
    "5. Verificación manual de mi modelo"
   ]
  },
  {
   "cell_type": "markdown",
   "metadata": {},
   "source": [
    "## 1. Descargamos y disponemos el conjunto de datos\n",
    "Fuente: https://www.kaggle.com/c/dogs-vs-cats-redux-kernels-edition/data"
   ]
  },
  {
   "cell_type": "markdown",
   "metadata": {},
   "source": [
    "#### 1.1 Descargamos y descomprimimos"
   ]
  },
  {
   "cell_type": "markdown",
   "metadata": {},
   "source": [
    "Al descargar y descomprimir debe verse así:\n",
    "```\n",
    "notebook/data/\n",
    "│\n",
    "├── dogs-vs-cats-redux-kernels-edition.zip\n",
    "└── dogs-vs-cats-redux-kernels-edition/\n",
    "    ├── sample_submission.csv\n",
    "    ├── test.zip\n",
    "    └── train.zip\n",
    "```"
   ]
  },
  {
   "cell_type": "markdown",
   "metadata": {},
   "source": [
    "#### 1.2 Descomprimimos test.zip y train.zip en `../data/`"
   ]
  },
  {
   "cell_type": "markdown",
   "metadata": {},
   "source": [
    "Al realizar esto quedamos con - nota como eliminamos el directorio y zip `dogs-vs-cats-redux-kernels-edition`:\n",
    "```\n",
    "notebook/data/\n",
    "│\n",
    "├── test/\n",
    "└── train/\n",
    "```"
   ]
  },
  {
   "cell_type": "markdown",
   "metadata": {},
   "source": [
    "Renombramos el folder `test/` a `unlabeled_test_data/`:\n",
    "```\n",
    "notebook/data/\n",
    "│\n",
    "├── unlabeled_test_data/\n",
    "└── train/\n",
    "```"
   ]
  },
  {
   "cell_type": "markdown",
   "metadata": {},
   "source": [
    "## 2. Exploración de datos"
   ]
  },
  {
   "cell_type": "code",
   "execution_count": null,
   "metadata": {},
   "outputs": [],
   "source": [
    "import os\n",
    "import matplotlib.pyplot as plt; plt.rcdefaults()\n",
    "import numpy as np\n",
    "import matplotlib.pyplot as plt"
   ]
  },
  {
   "cell_type": "code",
   "execution_count": null,
   "metadata": {},
   "outputs": [],
   "source": [
    "DATA_PATH = 'data/'"
   ]
  },
  {
   "cell_type": "markdown",
   "metadata": {},
   "source": [
    "Separamos imagenes de gatos y perros en diferentes directorios"
   ]
  },
  {
   "cell_type": "code",
   "execution_count": null,
   "metadata": {},
   "outputs": [],
   "source": [
    "import os\n",
    "from tqdm import tqdm\n",
    "\n",
    "if not os.path.exists(DATA_PATH):\n",
    "    os.makedirs(DATA_PATH)\n",
    "\n",
    "if not os.path.exists(os.path.join(DATA_PATH, 'dog')):\n",
    "    os.makedirs(os.path.join(DATA_PATH, 'dog'))\n",
    "\n",
    "if not os.path.exists(os.path.join(DATA_PATH, 'cat')):\n",
    "    os.makedirs(os.path.join(DATA_PATH, 'cat'))\n",
    "\n",
    "TRAIN_DATA_PATH = 'data/train/'\n",
    "\n",
    "for file in tqdm(os.listdir(TRAIN_DATA_PATH)):\n",
    "    new_file = file.replace('.jpg', '')\n",
    "    new_file = new_file.replace('.', '/')\n",
    "    new_file = new_file + '.jpg'\n",
    "    os.rename(os.path.join(TRAIN_DATA_PATH, file), os.path.join(DATA_PATH, new_file))\n",
    "\n",
    "os.rmdir(TRAIN_DATA_PATH)"
   ]
  },
  {
   "cell_type": "markdown",
   "metadata": {},
   "source": [
    "Entendiendo la distribución de mis datos"
   ]
  },
  {
   "cell_type": "code",
   "execution_count": null,
   "metadata": {},
   "outputs": [],
   "source": [
    "os.listdir(DATA_PATH)"
   ]
  },
  {
   "cell_type": "code",
   "execution_count": null,
   "metadata": {},
   "outputs": [],
   "source": [
    "total_cats = len(os.listdir(os.path.join(DATA_PATH, 'cat')))\n",
    "total_dogs = len(os.listdir(os.path.join(DATA_PATH, 'dog')))\n",
    "print(\"Numero de imagenes de gatos: \", total_cats)\n",
    "print(\"Numero de imagenes de perros: \", total_dogs)"
   ]
  },
  {
   "cell_type": "code",
   "execution_count": null,
   "metadata": {},
   "outputs": [],
   "source": [
    "objects = ('Dog', 'Cat')\n",
    "y_pos = np.arange(len(objects))\n",
    "performance = [total_dogs, total_cats]\n",
    "\n",
    "plt.bar(y_pos, performance, align='center', alpha=0.5)\n",
    "plt.xticks(y_pos, objects)\n",
    "plt.ylabel('Number')\n",
    "plt.title('Number of pets. Bar chart')\n",
    "\n",
    "plt.show()"
   ]
  },
  {
   "cell_type": "markdown",
   "metadata": {},
   "source": [
    "## 3. Preparación de datos"
   ]
  },
  {
   "cell_type": "markdown",
   "metadata": {},
   "source": [
    "Creamos los directorios `train`, `test` y `validation` para entrenamiento"
   ]
  },
  {
   "cell_type": "code",
   "execution_count": null,
   "metadata": {},
   "outputs": [],
   "source": [
    "# Train\n",
    "\n",
    "if not os.path.exists(os.path.join(DATA_PATH, 'train')):\n",
    "    os.makedirs(os.path.join(DATA_PATH, 'train'))\n",
    "\n",
    "if not os.path.exists(os.path.join(DATA_PATH, 'train/dog')):\n",
    "    os.makedirs(os.path.join(DATA_PATH, 'train/dog'))\n",
    "\n",
    "if not os.path.exists(os.path.join(DATA_PATH, 'train/cat')):\n",
    "    os.makedirs(os.path.join(DATA_PATH, 'train/cat'))\n",
    "\n",
    "# Test\n",
    "\n",
    "if not os.path.exists(os.path.join(DATA_PATH, 'test')):\n",
    "    os.makedirs(os.path.join(DATA_PATH, 'test'))\n",
    "\n",
    "if not os.path.exists(os.path.join(DATA_PATH, 'test/dog')):\n",
    "    os.makedirs(os.path.join(DATA_PATH, 'test/dog'))\n",
    "\n",
    "if not os.path.exists(os.path.join(DATA_PATH, 'test/cat')):\n",
    "    os.makedirs(os.path.join(DATA_PATH, 'test/cat'))\n",
    "\n",
    "# Validation\n",
    "\n",
    "if not os.path.exists(os.path.join(DATA_PATH, 'validation')):\n",
    "    os.makedirs(os.path.join(DATA_PATH, 'validation'))\n",
    "\n",
    "if not os.path.exists(os.path.join(DATA_PATH, 'validation/dog')):\n",
    "    os.makedirs(os.path.join(DATA_PATH, 'validation/dog'))\n",
    "\n",
    "if not os.path.exists(os.path.join(DATA_PATH, 'validation/cat')):\n",
    "    os.makedirs(os.path.join(DATA_PATH, 'validation/cat'))\n",
    "\n",
    "print('Folders created...')"
   ]
  },
  {
   "cell_type": "markdown",
   "metadata": {},
   "source": [
    "Dividimos los datos de entrenamiento de la siguiente forma:\n",
    "- Train - 80%\n",
    "- Test - 10%\n",
    "- Validation - 10%"
   ]
  },
  {
   "cell_type": "code",
   "execution_count": null,
   "metadata": {},
   "outputs": [],
   "source": [
    "list_of_dogs = os.listdir(os.path.join(DATA_PATH, 'dog'))\n",
    "list_of_cats = os.listdir(os.path.join(DATA_PATH, 'cat'))"
   ]
  },
  {
   "cell_type": "code",
   "execution_count": null,
   "metadata": {},
   "outputs": [],
   "source": [
    "import random\n",
    "\n",
    "# Train\n",
    "\n",
    "dog_train_size = int(len(list_of_dogs) * 0.8)\n",
    "train_dog = random.sample(list_of_dogs, k=dog_train_size)\n",
    "\n",
    "for dog in tqdm(train_dog):\n",
    "    os.rename(os.path.join(DATA_PATH, 'dog', dog), os.path.join(DATA_PATH, 'train/dog', dog))\n",
    "\n",
    "cat_train_size = int(len(list_of_cats) * 0.8)\n",
    "train_cat = random.sample(list_of_cats, k=cat_train_size)\n",
    "\n",
    "for cat in tqdm(train_cat):\n",
    "    os.rename(os.path.join(DATA_PATH, 'cat', cat), os.path.join(DATA_PATH, 'train/cat', cat))\n",
    "\n",
    "print('Train data created...')\n",
    "\n",
    "# Test\n",
    "\n",
    "list_of_dogs = os.listdir(os.path.join(DATA_PATH, 'dog'))\n",
    "list_of_cats = os.listdir(os.path.join(DATA_PATH, 'cat'))\n",
    "\n",
    "dog_test_size = int(len(list_of_dogs) * 0.5)\n",
    "test_dog = random.sample(list_of_dogs, k=dog_test_size)\n",
    "\n",
    "for dog in tqdm(test_dog):\n",
    "    os.rename(os.path.join(DATA_PATH, 'dog', dog), os.path.join(DATA_PATH, 'test/dog', dog))\n",
    "\n",
    "cat_test_size = int(len(list_of_cats) * 0.5)\n",
    "test_cat = random.sample(list_of_cats, k=cat_test_size)\n",
    "\n",
    "for cat in tqdm(test_cat):\n",
    "    os.rename(os.path.join(DATA_PATH, 'cat', cat), os.path.join(DATA_PATH, 'test/cat', cat))\n",
    "\n",
    "# Validation\n",
    "\n",
    "list_of_dogs = os.listdir(os.path.join(DATA_PATH, 'dog'))\n",
    "list_of_cats = os.listdir(os.path.join(DATA_PATH, 'cat'))\n",
    "\n",
    "for dog in tqdm(list_of_dogs):\n",
    "    os.rename(os.path.join(DATA_PATH, 'dog', dog), os.path.join(DATA_PATH, 'validation/dog', dog))\n",
    "\n",
    "for cat in tqdm(list_of_cats):\n",
    "    os.rename(os.path.join(DATA_PATH, 'cat', cat), os.path.join(DATA_PATH, 'validation/cat', cat))\n",
    "\n",
    "os.rmdir(os.path.join(DATA_PATH, 'cat'))\n",
    "os.rmdir(os.path.join(DATA_PATH, 'dog'))"
   ]
  },
  {
   "cell_type": "markdown",
   "metadata": {},
   "source": [
    "## 4. Entrenando modelo inicial usando una CNN + Datos Aumentados"
   ]
  },
  {
   "cell_type": "markdown",
   "metadata": {},
   "source": [
    "Ver notebook `notebook/model-training.ipynb`"
   ]
  },
  {
   "cell_type": "markdown",
   "metadata": {},
   "source": [
    "## 5. Verificación manual del modelo"
   ]
  },
  {
   "cell_type": "code",
   "execution_count": null,
   "metadata": {},
   "outputs": [],
   "source": [
    "def display_image(image_path):\n",
    "    dog_img = plt.imread(image_path)\n",
    "    plt.imshow(dog_img)\n",
    "    plt.show()\n",
    "\n",
    "def translate_pred(prediction: np.array) -> str:\n",
    "    if prediction[0][0] > 0.5:\n",
    "        return \"Dog\", prediction[0][0] * 100\n",
    "    else:\n",
    "        return \"Cat\", (1 - prediction[0][0]) * 100"
   ]
  },
  {
   "cell_type": "code",
   "execution_count": null,
   "metadata": {},
   "outputs": [],
   "source": [
    "from tensorflow import keras\n",
    "cnn_model = keras.models.load_model(os.path.join(DATA_PATH, 'model', 'cnn_model'))\n",
    "cnn_model.metrics_names"
   ]
  },
  {
   "cell_type": "code",
   "execution_count": null,
   "metadata": {},
   "outputs": [],
   "source": [
    "def model_predict(image_uri: str):\n",
    "    import numpy as np\n",
    "    from keras.preprocessing.image import load_img, img_to_array, ImageDataGenerator\n",
    "\n",
    "    display_image(image_uri)\n",
    "    \n",
    "    #load the image\n",
    "    img_width, img_height = 150, 150\n",
    "    my_image = load_img(image_uri, target_size=(img_width, img_height))\n",
    "\n",
    "    #preprocess the image\n",
    "    test_datagen = ImageDataGenerator(rescale=1. / 255)\n",
    "    # img_arr = img_to_array(my_image)\n",
    "    img_arr = np.expand_dims(img_to_array(my_image), axis=0)\n",
    "    preprocessed_img = next(test_datagen.flow(img_arr, batch_size=1))\n",
    "\n",
    "    prediction = cnn_model.predict(preprocessed_img)\n",
    "    animal_kind, confidence = translate_pred(prediction)\n",
    "    print(f\"It's a {animal_kind} ({confidence:.2f}%)\")"
   ]
  },
  {
   "cell_type": "code",
   "execution_count": null,
   "metadata": {},
   "outputs": [],
   "source": [
    "model_predict('data/unlabeled_test_data/1.jpg')"
   ]
  }
 ],
 "metadata": {
  "interpreter": {
   "hash": "d76cdd8fe586902d31a4e64094d1c2b49a13e1f9b64f8a2a336496d8c2831daa"
  },
  "kernelspec": {
   "display_name": "Python 3.8.12 64-bit ('ai-marketing': pyenv)",
   "language": "python",
   "name": "python3"
  },
  "language_info": {
   "codemirror_mode": {
    "name": "ipython",
    "version": 3
   },
   "file_extension": ".py",
   "mimetype": "text/x-python",
   "name": "python",
   "nbconvert_exporter": "python",
   "pygments_lexer": "ipython3",
   "version": "3.8.12"
  },
  "orig_nbformat": 4
 },
 "nbformat": 4,
 "nbformat_minor": 2
}
